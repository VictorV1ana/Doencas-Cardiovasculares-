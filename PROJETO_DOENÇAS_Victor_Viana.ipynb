{
  "nbformat": 4,
  "nbformat_minor": 0,
  "metadata": {
    "colab": {
      "name": "PROJETO DOENÇAS- Victor Viana.ipynb",
      "provenance": [],
      "collapsed_sections": [],
      "authorship_tag": "ABX9TyNsL+kPRPii5A6LzOZs55rb",
      "include_colab_link": true
    },
    "kernelspec": {
      "name": "python3",
      "display_name": "Python 3"
    }
  },
  "cells": [
    {
      "cell_type": "markdown",
      "metadata": {
        "id": "view-in-github",
        "colab_type": "text"
      },
      "source": [
        "<a href=\"https://colab.research.google.com/github/VictorV1ana/Doencas-Cardiovasculares-/blob/master/PROJETO_DOEN%C3%87AS_Victor_Viana.ipynb\" target=\"_parent\"><img src=\"https://colab.research.google.com/assets/colab-badge.svg\" alt=\"Open In Colab\"/></a>"
      ]
    },
    {
      "cell_type": "markdown",
      "metadata": {
        "id": "w0OlvP4PEdzR",
        "colab_type": "text"
      },
      "source": [
        "# Análise Exploratória de Dados - Doenças Cardiovasculares\n",
        "\n",
        "Doenças cardiovasculares são uma classe contendo diferentes tipos de doenças que afetam de alguma maneira o coração ou os vasos sanguíneos. Dentro da classe, existem várias doenças comoangina de peito, cardiopatia, arritmia cardíaca e aneurisma da aorta.\n",
        "\n",
        "<center><img src=\"https://raw.githubusercontent.com/carlosfab/curso_data_science_na_pratica/master/modulo_03/396260-PCIO15-306.jpg\"></center>\n",
        "\n",
        "Apesar de ser uma das principais causas de morte em todo o mundo, estima-se que cerca de 90% das doenças cardiovasculares poderiam ser evitadas por meio da adoção de algumas medidas e mudanças no *lifestyle*.\n",
        "\n",
        "Existem hoje várias pesquisas na área de *Machine Learning* visando a construções de modelos preditivos que ajudem os médicos a descobrirem doenças cardiovasculares em seus pacientes.\n",
        "\n",
        "Estudos publicados na revista *na revista Nature Biomedical Engineering* mostram que algoritmos de *Deep Learning* foram capazes de antecipar doenças cardíacas em até 5 anos.\n",
        "\n",
        "Definitivamente, o uso de Inteligência Artificial tem impactado profundamente a área da saúde, e tem proporcionado aos profissionais médicos insumos de inteligência cada vez mais precisos.\n",
        "\n"
      ]
    },
    {
      "cell_type": "markdown",
      "metadata": {
        "id": "F3XPABqpLFOX",
        "colab_type": "text"
      },
      "source": [
        "## Obtenção dos Dados\n",
        "\n",
        "O conjunto principal de dados usado neste projeto foi coletado da ***Cleveland Clinic Foundation*** e se encontra disponível no conhecido [Repositório UCI *Machine Learning*](https://archive.ics.uci.edu/ml/datasets/heart+Disease). Ressalta-se que os nomes, identidade e documentos pessoais dos pacientes foram removidos completamente do banco de dados.\n",
        "\n",
        "O *dataset* processado contém dados de 303 pessoas e 76 atributos. Entretanto, os principais artigos e estudos publicados optaram por usar apenas 14 atributos, considerados de maior relevância. Da mesma maneira, este projeto de *Data Science* usará essas mesmas 14 variáveis principais.\n",
        "\n",
        "<p><img alt=\"Colaboratory logo\" height=\"100\" src=\"https://raw.githubusercontent.com/carlosfab/curso_data_science_na_pratica/master/modulo_03/Large45.jpg\" align=\"right\" hspace=\"20px\" vspace=\"0px\"></p>\n",
        "\n",
        "* O arquivo `csv` com os dados de 303 pessoas e 14 atributos pode ser baixado [neste link](https://raw.githubusercontent.com/carlosfab/curso_data_science_na_pratica/master/modulo_03/heart-disease-uci.csv).\n",
        "\n",
        "* O arquivo contendo todos os detalhes e documentação do *dataset* usado neste projeto se encontra [neste link](https://github.com/carlosfab/curso_data_science_na_pratica/blob/master/modulo_03/heart-disease.names).\n",
        "\n",
        "* Há ainda um *dataset* secundário que será utilizado para ver a evolução no número de mortes por doenças cardiovasculares no Brasil (entre os anos de 2004-2017). Esses dados foram disponibilizados pela [Sociedade Brasileira de Cardiologia](http://www.cardiometro.com.br/anteriores.asp), e podem ser baixados [neste link](https://raw.githubusercontent.com/carlosfab/curso_data_science_na_pratica/master/modulo_03/mortes_doencas_cardiovasculares.csv).\n",
        "\n"
      ]
    },
    {
      "cell_type": "markdown",
      "metadata": {
        "id": "JTJNji8-CFbX",
        "colab_type": "text"
      },
      "source": [
        "### Informações sobre os atributos:\n",
        "\n",
        "\n",
        "* `age` - idade em anos\n",
        "* `sex` - sexo do paciente\n",
        "  * 0: mulher\n",
        "  * 1: homem\n",
        "* `cp` - tipo da dor torácica\n",
        "  * 1: angina típica\n",
        "  * 2: angina atípica\n",
        "  * 3: dor não cardíaca\n",
        "  * 4: assintomática\n",
        "* `trestbps` - pressão arterial em repouso\n",
        "* `chol` - colesterol sérico (*mg/dl*) Estes\n",
        "* `fbs` - açucar no sangue em jejum > 120*mg/dl*\n",
        "  * 0: `False`\n",
        "  * 1: `True`\n",
        "* `restecg` - resultado do eletrocardiografia de repouso\n",
        "  * 0: normal\n",
        "  * 1: anormalidades de ST-T  (inversão da onda T e elevação ou depressão de > 0.05*mV*)\n",
        "  * 2: hipertrofia ventricular esquerda provável ou definitiva (pelos critérios de Romhilt-Estes)\n",
        "* `thalach` - frequência cardíaca máxima atingida\n",
        "* `exang` - angina induzida pelo exercício\n",
        "  * 0: não\n",
        "  * 1: sim\n",
        "* `oldpeak` - depessão do segmento ST induzida pelo exercício em relação ao repouso\n",
        "* `slope` - inclinação do segmento ST no pico do exercício\n",
        "* `ca` - número de vasos principais colorido por fluoroscopia\n",
        "* `thal` - *thallium stress test*\n",
        "  * 3: normal\n",
        "  * 6: defeito fixo\n",
        "  * 7: defeito reversível\n",
        "* `num` - diagnóstico de doença cardíaca (diagnóstico angiográfico)\n",
        "  * 0: não há doença cardíaca ( < 50% de estreitamento do diâmetro)\n",
        "  * 1,2,3,4: há doença cardíaca ( > 50% de estreitamento do diâmetro)"
      ]
    },
    {
      "cell_type": "markdown",
      "metadata": {
        "id": "TjJW1eAGoH7Y",
        "colab_type": "text"
      },
      "source": [
        "### Importar os Dados\n",
        "\n",
        "Em uma etapa inicial, importaremos os dois *datasets* mencionados no início do *notebook*:\n",
        "\n",
        "* Um contendo os dados relacionados às doenças cardiovasculares (303 pessoas e 14 atributos); e\n",
        "* Um contendo os dados da mortalidade no Brasil por doenças cardiovasculares."
      ]
    },
    {
      "cell_type": "code",
      "metadata": {
        "id": "lr_gI2RzC8EW",
        "colab_type": "code",
        "cellView": "both",
        "colab": {}
      },
      "source": [
        "# importar as bibliotecas necessárias\n",
        "import pandas as pd\n",
        "import matplotlib.pyplot as plt\n",
        "from warnings import simplefilter \n",
        "simplefilter(action=\"ignore\", category= FutureWarning)\n",
        "# url dos datasets\n",
        "dataset_uci = \"https://raw.githubusercontent.com/carlosfab/curso_data_science_na_pratica/master/modulo_03/heart-disease-uci.csv\"\n",
        "dataset_brasil = \"https://raw.githubusercontent.com/carlosfab/curso_data_science_na_pratica/master/modulo_03/mortes_doencas_cardiovasculares.csv\"\n",
        "\n",
        "# importar dataset da UCI\n",
        "df = pd.read_csv(dataset_uci)\n",
        "\n",
        "# importar dataset dos indíces do Brasil\n",
        "df_brasil = pd.read_csv(dataset_brasil)"
      ],
      "execution_count": 0,
      "outputs": []
    },
    {
      "cell_type": "markdown",
      "metadata": {
        "id": "xGfqlRc3DqzD",
        "colab_type": "text"
      },
      "source": [
        "Olhando acima as informações sobre os atributos, percebemos que nossa variável alvo (`num`) possui cinco valores possíveis: \\[0, 1, 2, 3, 4\\].\n",
        "\n",
        "No entanto, seguindo a maioria das pesquisas que utilizaram esse *dataset*, iremos considerar apenas duas situações possíveis:\n",
        "\n",
        "* **0** - não há doença cardíaca\n",
        "* **1** - há doença cardíaca\n",
        "\n",
        "Então, iremos igualar a 1 os valores compreendidos entre 1-4."
      ]
    },
    {
      "cell_type": "code",
      "metadata": {
        "id": "nR53KX9ZvP-o",
        "colab_type": "code",
        "outputId": "c7c735b4-dda3-4e37-9306-eea3fb2102e2",
        "colab": {
          "base_uri": "https://localhost:8080/",
          "height": 119
        }
      },
      "source": [
        "# variável alvo antes\n",
        "df.num.value_counts()"
      ],
      "execution_count": 0,
      "outputs": [
        {
          "output_type": "execute_result",
          "data": {
            "text/plain": [
              "0    164\n",
              "1     55\n",
              "2     36\n",
              "3     35\n",
              "4     13\n",
              "Name: num, dtype: int64"
            ]
          },
          "metadata": {
            "tags": []
          },
          "execution_count": 47
        }
      ]
    },
    {
      "cell_type": "code",
      "metadata": {
        "id": "aI-Yx7cFu2tL",
        "colab_type": "code",
        "colab": {}
      },
      "source": [
        "# converter valores >= 1 em 1\n",
        "df.loc[df.num != 0, 'num'] = 1"
      ],
      "execution_count": 0,
      "outputs": []
    },
    {
      "cell_type": "code",
      "metadata": {
        "id": "JdnbfJH_DwY5",
        "colab_type": "code",
        "outputId": "a9920ccb-464c-493f-9ff5-09507e7e8b98",
        "colab": {
          "base_uri": "https://localhost:8080/",
          "height": 68
        }
      },
      "source": [
        "# variável alvo depois\n",
        "df.num.value_counts()"
      ],
      "execution_count": 0,
      "outputs": [
        {
          "output_type": "execute_result",
          "data": {
            "text/plain": [
              "0    164\n",
              "1    139\n",
              "Name: num, dtype: int64"
            ]
          },
          "metadata": {
            "tags": []
          },
          "execution_count": 49
        }
      ]
    },
    {
      "cell_type": "markdown",
      "metadata": {
        "id": "kuphjNCdWGZe",
        "colab_type": "text"
      },
      "source": [
        "##Análise Inicial"
      ]
    },
    {
      "cell_type": "markdown",
      "metadata": {
        "id": "gFDu-XTuWVdZ",
        "colab_type": "text"
      },
      "source": [
        "#### Como está organizado o Data Set ?"
      ]
    },
    {
      "cell_type": "markdown",
      "metadata": {
        "id": "wd156n61DIBH",
        "colab_type": "text"
      },
      "source": [
        "* **Quantas entradas temos e quais são os tipos das variáveis ?**"
      ]
    },
    {
      "cell_type": "code",
      "metadata": {
        "id": "ExKPmG-CEhPh",
        "colab_type": "code",
        "outputId": "72d534f7-13d7-4f7f-9afb-5c15b8b3d216",
        "colab": {
          "base_uri": "https://localhost:8080/",
          "height": 306
        }
      },
      "source": [
        "# número de entradas e variáveis \n",
        "print(\"Entradas: {}\".format(df.shape[0]))\n",
        "print(\"Variáveis: {}.\".format(df.shape[1]))\n",
        "\n",
        "# ver os tipos das variáveis \n",
        "df.dtypes\n"
      ],
      "execution_count": 0,
      "outputs": [
        {
          "output_type": "stream",
          "text": [
            "Entradas: 303\n",
            "Variáveis: 14.\n"
          ],
          "name": "stdout"
        },
        {
          "output_type": "execute_result",
          "data": {
            "text/plain": [
              "age         float64\n",
              "sex         float64\n",
              "cp          float64\n",
              "trestbps    float64\n",
              "chol        float64\n",
              "fbs         float64\n",
              "restecg     float64\n",
              "thalach     float64\n",
              "exang       float64\n",
              "oldpeak     float64\n",
              "slope       float64\n",
              "ca          float64\n",
              "thal        float64\n",
              "num           int64\n",
              "dtype: object"
            ]
          },
          "metadata": {
            "tags": []
          },
          "execution_count": 50
        }
      ]
    },
    {
      "cell_type": "markdown",
      "metadata": {
        "id": "caN89lhhN82a",
        "colab_type": "text"
      },
      "source": [
        "* **Existem valores ausentes ?**"
      ]
    },
    {
      "cell_type": "code",
      "metadata": {
        "id": "C2iAMLu8N7QP",
        "colab_type": "code",
        "outputId": "535630a9-0043-4223-df63-b3d67383d5a5",
        "colab": {
          "base_uri": "https://localhost:8080/",
          "height": 272
        }
      },
      "source": [
        "#Vericar valores ausentes \n",
        "df.isnull().sum()"
      ],
      "execution_count": 0,
      "outputs": [
        {
          "output_type": "execute_result",
          "data": {
            "text/plain": [
              "age         0\n",
              "sex         0\n",
              "cp          0\n",
              "trestbps    0\n",
              "chol        0\n",
              "fbs         0\n",
              "restecg     0\n",
              "thalach     0\n",
              "exang       0\n",
              "oldpeak     0\n",
              "slope       0\n",
              "ca          0\n",
              "thal        0\n",
              "num         0\n",
              "dtype: int64"
            ]
          },
          "metadata": {
            "tags": []
          },
          "execution_count": 51
        }
      ]
    },
    {
      "cell_type": "markdown",
      "metadata": {
        "id": "KyJUwARHOFut",
        "colab_type": "text"
      },
      "source": [
        "O Data Frame não tem valores ausentes "
      ]
    },
    {
      "cell_type": "markdown",
      "metadata": {
        "id": "ODGrGtlUFxGc",
        "colab_type": "text"
      },
      "source": [
        "##Análise exploratória"
      ]
    },
    {
      "cell_type": "markdown",
      "metadata": {
        "id": "dKxQT_l62wTD",
        "colab_type": "text"
      },
      "source": [
        "* **Primeiras Entradas**"
      ]
    },
    {
      "cell_type": "code",
      "metadata": {
        "id": "njNCzBC4WNAm",
        "colab_type": "code",
        "outputId": "d623535d-75ef-4b4c-ceb0-5dc68b1ed14d",
        "colab": {
          "base_uri": "https://localhost:8080/",
          "height": 204
        }
      },
      "source": [
        "# plotar as primeiras entradas\n",
        "df.head()"
      ],
      "execution_count": 0,
      "outputs": [
        {
          "output_type": "execute_result",
          "data": {
            "text/html": [
              "<div>\n",
              "<style scoped>\n",
              "    .dataframe tbody tr th:only-of-type {\n",
              "        vertical-align: middle;\n",
              "    }\n",
              "\n",
              "    .dataframe tbody tr th {\n",
              "        vertical-align: top;\n",
              "    }\n",
              "\n",
              "    .dataframe thead th {\n",
              "        text-align: right;\n",
              "    }\n",
              "</style>\n",
              "<table border=\"1\" class=\"dataframe\">\n",
              "  <thead>\n",
              "    <tr style=\"text-align: right;\">\n",
              "      <th></th>\n",
              "      <th>age</th>\n",
              "      <th>sex</th>\n",
              "      <th>cp</th>\n",
              "      <th>trestbps</th>\n",
              "      <th>chol</th>\n",
              "      <th>fbs</th>\n",
              "      <th>restecg</th>\n",
              "      <th>thalach</th>\n",
              "      <th>exang</th>\n",
              "      <th>oldpeak</th>\n",
              "      <th>slope</th>\n",
              "      <th>ca</th>\n",
              "      <th>thal</th>\n",
              "      <th>num</th>\n",
              "    </tr>\n",
              "  </thead>\n",
              "  <tbody>\n",
              "    <tr>\n",
              "      <th>0</th>\n",
              "      <td>63.0</td>\n",
              "      <td>1.0</td>\n",
              "      <td>1.0</td>\n",
              "      <td>145.0</td>\n",
              "      <td>233.0</td>\n",
              "      <td>1.0</td>\n",
              "      <td>2.0</td>\n",
              "      <td>150.0</td>\n",
              "      <td>0.0</td>\n",
              "      <td>2.3</td>\n",
              "      <td>3.0</td>\n",
              "      <td>0.0</td>\n",
              "      <td>6.0</td>\n",
              "      <td>0</td>\n",
              "    </tr>\n",
              "    <tr>\n",
              "      <th>1</th>\n",
              "      <td>67.0</td>\n",
              "      <td>1.0</td>\n",
              "      <td>4.0</td>\n",
              "      <td>160.0</td>\n",
              "      <td>286.0</td>\n",
              "      <td>0.0</td>\n",
              "      <td>2.0</td>\n",
              "      <td>108.0</td>\n",
              "      <td>1.0</td>\n",
              "      <td>1.5</td>\n",
              "      <td>2.0</td>\n",
              "      <td>3.0</td>\n",
              "      <td>3.0</td>\n",
              "      <td>1</td>\n",
              "    </tr>\n",
              "    <tr>\n",
              "      <th>2</th>\n",
              "      <td>67.0</td>\n",
              "      <td>1.0</td>\n",
              "      <td>4.0</td>\n",
              "      <td>120.0</td>\n",
              "      <td>229.0</td>\n",
              "      <td>0.0</td>\n",
              "      <td>2.0</td>\n",
              "      <td>129.0</td>\n",
              "      <td>1.0</td>\n",
              "      <td>2.6</td>\n",
              "      <td>2.0</td>\n",
              "      <td>2.0</td>\n",
              "      <td>7.0</td>\n",
              "      <td>1</td>\n",
              "    </tr>\n",
              "    <tr>\n",
              "      <th>3</th>\n",
              "      <td>37.0</td>\n",
              "      <td>1.0</td>\n",
              "      <td>3.0</td>\n",
              "      <td>130.0</td>\n",
              "      <td>250.0</td>\n",
              "      <td>0.0</td>\n",
              "      <td>0.0</td>\n",
              "      <td>187.0</td>\n",
              "      <td>0.0</td>\n",
              "      <td>3.5</td>\n",
              "      <td>3.0</td>\n",
              "      <td>0.0</td>\n",
              "      <td>3.0</td>\n",
              "      <td>0</td>\n",
              "    </tr>\n",
              "    <tr>\n",
              "      <th>4</th>\n",
              "      <td>41.0</td>\n",
              "      <td>0.0</td>\n",
              "      <td>2.0</td>\n",
              "      <td>130.0</td>\n",
              "      <td>204.0</td>\n",
              "      <td>0.0</td>\n",
              "      <td>2.0</td>\n",
              "      <td>172.0</td>\n",
              "      <td>0.0</td>\n",
              "      <td>1.4</td>\n",
              "      <td>1.0</td>\n",
              "      <td>0.0</td>\n",
              "      <td>3.0</td>\n",
              "      <td>0</td>\n",
              "    </tr>\n",
              "  </tbody>\n",
              "</table>\n",
              "</div>"
            ],
            "text/plain": [
              "    age  sex   cp  trestbps   chol  fbs  ...  exang  oldpeak  slope   ca  thal  num\n",
              "0  63.0  1.0  1.0     145.0  233.0  1.0  ...    0.0      2.3    3.0  0.0   6.0    0\n",
              "1  67.0  1.0  4.0     160.0  286.0  0.0  ...    1.0      1.5    2.0  3.0   3.0    1\n",
              "2  67.0  1.0  4.0     120.0  229.0  0.0  ...    1.0      2.6    2.0  2.0   7.0    1\n",
              "3  37.0  1.0  3.0     130.0  250.0  0.0  ...    0.0      3.5    3.0  0.0   3.0    0\n",
              "4  41.0  0.0  2.0     130.0  204.0  0.0  ...    0.0      1.4    1.0  0.0   3.0    0\n",
              "\n",
              "[5 rows x 14 columns]"
            ]
          },
          "metadata": {
            "tags": []
          },
          "execution_count": 52
        }
      ]
    },
    {
      "cell_type": "markdown",
      "metadata": {
        "id": "s3GZJmPG25CN",
        "colab_type": "text"
      },
      "source": [
        "* **Resumo Estatístico**\n",
        "\n",
        "O resumo estatístico apresenta algumas informações iniciais importantes, e uma possível detecção de outliers.\n",
        "\n",
        "Além disso, nos permite analisar de forma simplificada algumas variáveis."
      ]
    },
    {
      "cell_type": "code",
      "metadata": {
        "id": "ZEHrrryuWl-y",
        "colab_type": "code",
        "outputId": "e914789e-a28d-4d3a-b857-9dc3ebb86428",
        "colab": {
          "base_uri": "https://localhost:8080/",
          "height": 297
        }
      },
      "source": [
        "#plotar resumo estatístico\n",
        "df.describe()"
      ],
      "execution_count": 0,
      "outputs": [
        {
          "output_type": "execute_result",
          "data": {
            "text/html": [
              "<div>\n",
              "<style scoped>\n",
              "    .dataframe tbody tr th:only-of-type {\n",
              "        vertical-align: middle;\n",
              "    }\n",
              "\n",
              "    .dataframe tbody tr th {\n",
              "        vertical-align: top;\n",
              "    }\n",
              "\n",
              "    .dataframe thead th {\n",
              "        text-align: right;\n",
              "    }\n",
              "</style>\n",
              "<table border=\"1\" class=\"dataframe\">\n",
              "  <thead>\n",
              "    <tr style=\"text-align: right;\">\n",
              "      <th></th>\n",
              "      <th>age</th>\n",
              "      <th>sex</th>\n",
              "      <th>cp</th>\n",
              "      <th>trestbps</th>\n",
              "      <th>chol</th>\n",
              "      <th>fbs</th>\n",
              "      <th>restecg</th>\n",
              "      <th>thalach</th>\n",
              "      <th>exang</th>\n",
              "      <th>oldpeak</th>\n",
              "      <th>slope</th>\n",
              "      <th>ca</th>\n",
              "      <th>thal</th>\n",
              "      <th>num</th>\n",
              "    </tr>\n",
              "  </thead>\n",
              "  <tbody>\n",
              "    <tr>\n",
              "      <th>count</th>\n",
              "      <td>303.000000</td>\n",
              "      <td>303.000000</td>\n",
              "      <td>303.000000</td>\n",
              "      <td>303.000000</td>\n",
              "      <td>303.000000</td>\n",
              "      <td>303.000000</td>\n",
              "      <td>303.000000</td>\n",
              "      <td>303.000000</td>\n",
              "      <td>303.000000</td>\n",
              "      <td>303.000000</td>\n",
              "      <td>303.000000</td>\n",
              "      <td>303.000000</td>\n",
              "      <td>303.000000</td>\n",
              "      <td>303.000000</td>\n",
              "    </tr>\n",
              "    <tr>\n",
              "      <th>mean</th>\n",
              "      <td>54.438944</td>\n",
              "      <td>0.679868</td>\n",
              "      <td>3.158416</td>\n",
              "      <td>131.689769</td>\n",
              "      <td>246.693069</td>\n",
              "      <td>0.148515</td>\n",
              "      <td>0.990099</td>\n",
              "      <td>149.607261</td>\n",
              "      <td>0.326733</td>\n",
              "      <td>1.039604</td>\n",
              "      <td>1.600660</td>\n",
              "      <td>0.663366</td>\n",
              "      <td>4.722772</td>\n",
              "      <td>0.458746</td>\n",
              "    </tr>\n",
              "    <tr>\n",
              "      <th>std</th>\n",
              "      <td>9.038662</td>\n",
              "      <td>0.467299</td>\n",
              "      <td>0.960126</td>\n",
              "      <td>17.599748</td>\n",
              "      <td>51.776918</td>\n",
              "      <td>0.356198</td>\n",
              "      <td>0.994971</td>\n",
              "      <td>22.875003</td>\n",
              "      <td>0.469794</td>\n",
              "      <td>1.161075</td>\n",
              "      <td>0.616226</td>\n",
              "      <td>0.934375</td>\n",
              "      <td>1.938383</td>\n",
              "      <td>0.499120</td>\n",
              "    </tr>\n",
              "    <tr>\n",
              "      <th>min</th>\n",
              "      <td>29.000000</td>\n",
              "      <td>0.000000</td>\n",
              "      <td>1.000000</td>\n",
              "      <td>94.000000</td>\n",
              "      <td>126.000000</td>\n",
              "      <td>0.000000</td>\n",
              "      <td>0.000000</td>\n",
              "      <td>71.000000</td>\n",
              "      <td>0.000000</td>\n",
              "      <td>0.000000</td>\n",
              "      <td>1.000000</td>\n",
              "      <td>0.000000</td>\n",
              "      <td>3.000000</td>\n",
              "      <td>0.000000</td>\n",
              "    </tr>\n",
              "    <tr>\n",
              "      <th>25%</th>\n",
              "      <td>48.000000</td>\n",
              "      <td>0.000000</td>\n",
              "      <td>3.000000</td>\n",
              "      <td>120.000000</td>\n",
              "      <td>211.000000</td>\n",
              "      <td>0.000000</td>\n",
              "      <td>0.000000</td>\n",
              "      <td>133.500000</td>\n",
              "      <td>0.000000</td>\n",
              "      <td>0.000000</td>\n",
              "      <td>1.000000</td>\n",
              "      <td>0.000000</td>\n",
              "      <td>3.000000</td>\n",
              "      <td>0.000000</td>\n",
              "    </tr>\n",
              "    <tr>\n",
              "      <th>50%</th>\n",
              "      <td>56.000000</td>\n",
              "      <td>1.000000</td>\n",
              "      <td>3.000000</td>\n",
              "      <td>130.000000</td>\n",
              "      <td>241.000000</td>\n",
              "      <td>0.000000</td>\n",
              "      <td>1.000000</td>\n",
              "      <td>153.000000</td>\n",
              "      <td>0.000000</td>\n",
              "      <td>0.800000</td>\n",
              "      <td>2.000000</td>\n",
              "      <td>0.000000</td>\n",
              "      <td>3.000000</td>\n",
              "      <td>0.000000</td>\n",
              "    </tr>\n",
              "    <tr>\n",
              "      <th>75%</th>\n",
              "      <td>61.000000</td>\n",
              "      <td>1.000000</td>\n",
              "      <td>4.000000</td>\n",
              "      <td>140.000000</td>\n",
              "      <td>275.000000</td>\n",
              "      <td>0.000000</td>\n",
              "      <td>2.000000</td>\n",
              "      <td>166.000000</td>\n",
              "      <td>1.000000</td>\n",
              "      <td>1.600000</td>\n",
              "      <td>2.000000</td>\n",
              "      <td>1.000000</td>\n",
              "      <td>7.000000</td>\n",
              "      <td>1.000000</td>\n",
              "    </tr>\n",
              "    <tr>\n",
              "      <th>max</th>\n",
              "      <td>77.000000</td>\n",
              "      <td>1.000000</td>\n",
              "      <td>4.000000</td>\n",
              "      <td>200.000000</td>\n",
              "      <td>564.000000</td>\n",
              "      <td>1.000000</td>\n",
              "      <td>2.000000</td>\n",
              "      <td>202.000000</td>\n",
              "      <td>1.000000</td>\n",
              "      <td>6.200000</td>\n",
              "      <td>3.000000</td>\n",
              "      <td>3.000000</td>\n",
              "      <td>7.000000</td>\n",
              "      <td>1.000000</td>\n",
              "    </tr>\n",
              "  </tbody>\n",
              "</table>\n",
              "</div>"
            ],
            "text/plain": [
              "              age         sex          cp  ...          ca        thal         num\n",
              "count  303.000000  303.000000  303.000000  ...  303.000000  303.000000  303.000000\n",
              "mean    54.438944    0.679868    3.158416  ...    0.663366    4.722772    0.458746\n",
              "std      9.038662    0.467299    0.960126  ...    0.934375    1.938383    0.499120\n",
              "min     29.000000    0.000000    1.000000  ...    0.000000    3.000000    0.000000\n",
              "25%     48.000000    0.000000    3.000000  ...    0.000000    3.000000    0.000000\n",
              "50%     56.000000    1.000000    3.000000  ...    0.000000    3.000000    0.000000\n",
              "75%     61.000000    1.000000    4.000000  ...    1.000000    7.000000    1.000000\n",
              "max     77.000000    1.000000    4.000000  ...    3.000000    7.000000    1.000000\n",
              "\n",
              "[8 rows x 14 columns]"
            ]
          },
          "metadata": {
            "tags": []
          },
          "execution_count": 53
        }
      ]
    },
    {
      "cell_type": "markdown",
      "metadata": {
        "id": "INhA41Fj4S9x",
        "colab_type": "text"
      },
      "source": [
        "* A média de idade dos pacientes é de 54 anos \n",
        " \n",
        "* 75% dos pacientes tem pressão acima do considerado normal 120 mmHg. Cerca de 25% dos pacientes tem quadro de hipertenção leve - pressão arterial acima de 140 mmHg\n",
        "\n",
        "* Maioria das amostras tem colesterol acima do normal segundo a Sociedade Brasileira de Cardiologia (valor de referência < 190mg/dl)\n",
        "\n",
        "* Foi detectado no eletrocardiograma que cerca de 50% dos pacientes ou anormalidades de ST-T hipertrofia ou  ventricular esquerda provável ou definitiva\n",
        "\n",
        "* Pelo menos 25% dos pacientes apresentaram angina (dor forte no peito) \n",
        "\n",
        "* Pelo menos 25% dos pacientes são diagnosticados com doenças cardíacas"
      ]
    },
    {
      "cell_type": "markdown",
      "metadata": {
        "colab_type": "text",
        "id": "3BdTcxXj9Nrc"
      },
      "source": [
        "### Outliers\n",
        "Vamos tentar identificar possíveis outliers com ajuda de algumas ferramentas gráficas:\n"
      ]
    },
    {
      "cell_type": "markdown",
      "metadata": {
        "id": "1gzkqm_lmUWk",
        "colab_type": "text"
      },
      "source": [
        "* **Histograma**\n",
        "\n",
        "  Mostrará as distribuições das variáveis e possíveis outliers."
      ]
    },
    {
      "cell_type": "code",
      "metadata": {
        "colab_type": "code",
        "outputId": "dc7c0748-a306-48e7-d40a-e737cb53f22f",
        "id": "xZrAoUXj9Nre",
        "colab": {
          "base_uri": "https://localhost:8080/",
          "height": 607
        }
      },
      "source": [
        "#plotar histograma das variáveis\n",
        "df.hist(figsize=(20,10),color=\"#407F7F\");\n",
        "plt.tight_layout;"
      ],
      "execution_count": 0,
      "outputs": [
        {
          "output_type": "display_data",
          "data": {
            "image/png": "[encoded data removed]",
            "text/plain": [
              "<Figure size 1440x720 with 16 Axes>"
            ]
          },
          "metadata": {
            "tags": []
          }
        }
      ]
    },
    {
      "cell_type": "markdown",
      "metadata": {
        "id": "eXch_qWsmpT_",
        "colab_type": "text"
      },
      "source": [
        "  Pelas distribuições as variáveis `chol` , `oldpeak` , `trestbps` , `thalach` podem ter outliers. "
      ]
    },
    {
      "cell_type": "markdown",
      "metadata": {
        "id": "2ZqNwSjqm8Pd",
        "colab_type": "text"
      },
      "source": [
        "* **Boxplot** "
      ]
    },
    {
      "cell_type": "code",
      "metadata": {
        "id": "gMb6-Pnb_ZY_",
        "colab_type": "code",
        "outputId": "4173d48d-81de-4716-833b-bb59b29df9a2",
        "colab": {
          "base_uri": "https://localhost:8080/",
          "height": 483
        }
      },
      "source": [
        "# box plot dos possíveis outliers \n",
        "fig,(ax1,ax2,ax3,ax4)= plt.subplots(nrows=4,ncols=1,figsize=(10,8))\n",
        "\n",
        "#boxplot de chol \n",
        "df.chol.plot(kind=\"box\",vert=False,ax=ax1)\n",
        "#boxplot de oldpeak\n",
        "df.oldpeak.plot(kind=\"box\",vert=False,ax=ax2)\n",
        "#boxplot de trestbps\n",
        "df.trestbps.plot(kind=\"box\",vert=False, ax=ax3)\n",
        "#boxplot de thalach\n",
        "df.thalach.plot(kind=\"box\",vert=False, ax=ax4)\n",
        "\n",
        "plt.tight_layout;"
      ],
      "execution_count": 0,
      "outputs": [
        {
          "output_type": "display_data",
          "data": {
            "image/png": "[encoded data removed]",
            "text/plain": [
              "<Figure size 720x576 with 4 Axes>"
            ]
          },
          "metadata": {
            "tags": []
          }
        }
      ]
    },
    {
      "cell_type": "markdown",
      "metadata": {
        "id": "i8Pi5amEnMw8",
        "colab_type": "text"
      },
      "source": [
        "**OUTILIERS :**\n",
        "* `Chol` contém outliers em valores acima de 380\n",
        "* `oldpeak` contém outliers em resultados acima de 4 \n",
        "* `trestbps` contém outliers em valores acima de 170\n",
        "* `thalach` tem um outlier"
      ]
    },
    {
      "cell_type": "markdown",
      "metadata": {
        "id": "P1wdveEsoAh2",
        "colab_type": "text"
      },
      "source": [
        "###Limpando os dados\n",
        "\n",
        "Vamos retirar os outliers da nossa base de dados"
      ]
    },
    {
      "cell_type": "code",
      "metadata": {
        "colab_type": "code",
        "id": "FFlcdzIP9Nrp",
        "outputId": "dd936253-a82b-4e59-972b-c07dbfadee43",
        "colab": {
          "base_uri": "https://localhost:8080/",
          "height": 51
        }
      },
      "source": [
        "#criando copia do Data Frame\n",
        "df2 = df.copy()\n",
        "#limpar data frame \n",
        "df2.drop(df2[df2.chol > 380].index,axis=0, inplace=True)\n",
        "df2.drop(df2[df2.oldpeak > 4].index,axis=0, inplace=True)\n",
        "df2.drop(df2[df.trestbps >170].index,axis=0,inplace=True)\n",
        "df2.drop(df2[df2.thalach< 80].index,axis=0,inplace=True)\n"
      ],
      "execution_count": 0,
      "outputs": [
        {
          "output_type": "stream",
          "text": [
            "/usr/local/lib/python3.6/dist-packages/ipykernel_launcher.py:5: UserWarning: Boolean Series key will be reindexed to match DataFrame index.\n",
            "  \"\"\"\n"
          ],
          "name": "stderr"
        }
      ]
    },
    {
      "cell_type": "code",
      "metadata": {
        "colab_type": "code",
        "id": "qCwmefJX9Nrv",
        "outputId": "c7f442d4-ae4c-44de-f825-2060ffc49074",
        "colab": {
          "base_uri": "https://localhost:8080/",
          "height": 34
        }
      },
      "source": [
        "#verificar quantas entradas após a limpeza\n",
        "df2.shape"
      ],
      "execution_count": 0,
      "outputs": [
        {
          "output_type": "execute_result",
          "data": {
            "text/plain": [
              "(284, 14)"
            ]
          },
          "metadata": {
            "tags": []
          },
          "execution_count": 57
        }
      ]
    },
    {
      "cell_type": "code",
      "metadata": {
        "id": "fLyLPwWey2yr",
        "colab_type": "code",
        "outputId": "7a552344-fc7f-4b69-f37b-831e16f41dd1",
        "colab": {
          "base_uri": "https://localhost:8080/",
          "height": 607
        }
      },
      "source": [
        "# plotar histograma pós limpeza\n",
        "df2.hist(figsize=(20,10),color=\"#407F7F\");"
      ],
      "execution_count": 0,
      "outputs": [
        {
          "output_type": "display_data",
          "data": {
            "image/png": "[encoded data removed]",
            "text/plain": [
              "<Figure size 1440x720 with 16 Axes>"
            ]
          },
          "metadata": {
            "tags": []
          }
        }
      ]
    },
    {
      "cell_type": "markdown",
      "metadata": {
        "id": "_QCQSnsPhgR4",
        "colab_type": "text"
      },
      "source": [
        "### Os pacientes são de qual sexo majoritariamente ?"
      ]
    },
    {
      "cell_type": "code",
      "metadata": {
        "id": "N91dmE2epV-u",
        "colab_type": "code",
        "outputId": "a6179309-f500-43fd-cddb-ec0fb15a16bc",
        "colab": {
          "base_uri": "https://localhost:8080/",
          "height": 68
        }
      },
      "source": [
        "# Calcular a quantidade de homens e mulheres  \n",
        "df2.sex.value_counts()"
      ],
      "execution_count": 0,
      "outputs": [
        {
          "output_type": "execute_result",
          "data": {
            "text/plain": [
              "1.0    198\n",
              "0.0     86\n",
              "Name: sex, dtype: int64"
            ]
          },
          "metadata": {
            "tags": []
          },
          "execution_count": 59
        }
      ]
    },
    {
      "cell_type": "markdown",
      "metadata": {
        "id": "9L2bkHpoptY_",
        "colab_type": "text"
      },
      "source": [
        "* São 198 homens e 86 mulheres "
      ]
    },
    {
      "cell_type": "code",
      "metadata": {
        "id": "1ER7uYaWhxq6",
        "colab_type": "code",
        "outputId": "f6c7c678-1b6c-4d9f-d24a-c8689e69c01e",
        "colab": {
          "base_uri": "https://localhost:8080/",
          "height": 281
        }
      },
      "source": [
        "# plotar grafico de barras \n",
        "fig, ax = plt.subplots()\n",
        "df2[\"sex\"].value_counts().plot(kind=\"bar\",ax=ax, color=[\"#407F7F\",\"#AA3939\"])\n",
        "ax.set_title(\"Quantidade de homens e mulheres\")\n",
        "ax.set_ylabel(\"Quantidade\")\n",
        "plt.xticks(rotation=360)\n",
        "\n",
        "fig.canvas.draw()\n",
        "\n",
        "labels = [item.get_text() for item in ax.get_xticklabels()]\n",
        "labels[1] = 'Mulheres'\n",
        "labels[0] = 'Homens'\n",
        "\n",
        "ax.set_xticklabels(labels)\n",
        "plt.tight_layout;\n"
      ],
      "execution_count": 0,
      "outputs": [
        {
          "output_type": "display_data",
          "data": {
            "image/png": "[encoded data removed]",
            "text/plain": [
              "<Figure size 432x288 with 1 Axes>"
            ]
          },
          "metadata": {
            "tags": []
          }
        }
      ]
    },
    {
      "cell_type": "markdown",
      "metadata": {
        "id": "qlzKWp4bFek0",
        "colab_type": "text"
      },
      "source": [
        "### Quantos Pacientes tem doenças cardíacas ?"
      ]
    },
    {
      "cell_type": "code",
      "metadata": {
        "id": "TUHoj-cuGKBu",
        "colab_type": "code",
        "outputId": "af461845-d337-4f46-95c8-a1eb3c9ff401",
        "colab": {
          "base_uri": "https://localhost:8080/",
          "height": 68
        }
      },
      "source": [
        "# contar quantos pacientes tem doenças cardicas\n",
        "df2.num.value_counts()\n",
        "\n"
      ],
      "execution_count": 0,
      "outputs": [
        {
          "output_type": "execute_result",
          "data": {
            "text/plain": [
              "0    158\n",
              "1    126\n",
              "Name: num, dtype: int64"
            ]
          },
          "metadata": {
            "tags": []
          },
          "execution_count": 61
        }
      ]
    },
    {
      "cell_type": "code",
      "metadata": {
        "id": "e1O1cmlmGXat",
        "colab_type": "code",
        "outputId": "b133e127-e464-41cd-c270-6ffd85bb7d1d",
        "colab": {
          "base_uri": "https://localhost:8080/",
          "height": 68
        }
      },
      "source": [
        "# porcentagem de pacientes com doenças cardíacas\n",
        "df2.num.value_counts()/df2.shape[0]"
      ],
      "execution_count": 0,
      "outputs": [
        {
          "output_type": "execute_result",
          "data": {
            "text/plain": [
              "0    0.556338\n",
              "1    0.443662\n",
              "Name: num, dtype: float64"
            ]
          },
          "metadata": {
            "tags": []
          },
          "execution_count": 62
        }
      ]
    },
    {
      "cell_type": "markdown",
      "metadata": {
        "id": "C7J9gR62G4oZ",
        "colab_type": "text"
      },
      "source": [
        "* 55.5% dos pacientes (158) não foram diagnosticados com doenças cardíacas \n",
        "* **44.3% dos pacientes (126) tem algum tipo de doença cardíaca**"
      ]
    },
    {
      "cell_type": "code",
      "metadata": {
        "id": "YPNOuMG-hWrN",
        "colab_type": "code",
        "cellView": "both",
        "colab": {}
      },
      "source": [
        "#Importar pocote\n",
        "!pip install pywaffle -q"
      ],
      "execution_count": 0,
      "outputs": []
    },
    {
      "cell_type": "code",
      "metadata": {
        "id": "IPASrNYXh3H7",
        "colab_type": "code",
        "outputId": "a48d5a31-e082-419b-ebdf-697a96a5b307",
        "colab": {
          "base_uri": "https://localhost:8080/",
          "height": 297
        }
      },
      "source": [
        "from pywaffle import Waffle\n",
        "# colocar valores em um dicionário \n",
        "data = df2.num.value_counts().to_dict()\n",
        "#plotar gráfico de Waffle\n",
        "fig = plt.figure(\n",
        "                FigureClass=Waffle,\n",
        "                rows=5,\n",
        "                columns=6,\n",
        "                title={\"label\":\"Pessoas Com e Sem Doença Cardícas\", \"loc\":\"center\"},\n",
        "                colors=(\"#407F7F\", \"#AA3939\"),\n",
        "                values=data, icons=\"heartbeat\",  icon_size=20,\n",
        "                legend={ \"labels\":['Sem Doença Cardíca', \"Com Doença Cardíaca\"]\n",
        "                        ,'loc': 'lower left', 'bbox_to_anchor': (1,1)},\n",
        "                icon_legend=True\n",
        "                )"
      ],
      "execution_count": 0,
      "outputs": [
        {
          "output_type": "display_data",
          "data": {
            "image/png": "[encoded data removed]",
            "text/plain": [
              "<Waffle size 432x288 with 1 Axes>"
            ]
          },
          "metadata": {
            "tags": []
          }
        }
      ]
    },
    {
      "cell_type": "markdown",
      "metadata": {
        "id": "_vlsaod34fe7",
        "colab_type": "text"
      },
      "source": [
        "###Colesterol"
      ]
    },
    {
      "cell_type": "markdown",
      "metadata": {
        "id": "-G7Zs9Sc4wMH",
        "colab_type": "text"
      },
      "source": [
        "#### Qual é a média de colesterol dos pacientes ?"
      ]
    },
    {
      "cell_type": "code",
      "metadata": {
        "id": "ZDFISWI3438W",
        "colab_type": "code",
        "outputId": "97323d27-a80e-4dc4-a89f-c617f3d4c86f",
        "colab": {
          "base_uri": "https://localhost:8080/",
          "height": 34
        }
      },
      "source": [
        "# calcular a média de colesterol\n",
        "print(\"A média de colesterol dos pacientes é : {:.2f} mg/dl\".format(df2.chol.mean()))"
      ],
      "execution_count": 0,
      "outputs": [
        {
          "output_type": "stream",
          "text": [
            "A média de colesterol dos pacientes é : 242.54 mg/dl\n"
          ],
          "name": "stdout"
        }
      ]
    },
    {
      "cell_type": "markdown",
      "metadata": {
        "id": "3joBOhN35z2v",
        "colab_type": "text"
      },
      "source": [
        "Esse valor é bem acima do valor considerado normal. O aumento do colesterol aumenta o risco de aterosclerose, infarto, insuficiência cardíaca e pressão alta."
      ]
    },
    {
      "cell_type": "markdown",
      "metadata": {
        "id": "rlwBjHGqvDSx",
        "colab_type": "text"
      },
      "source": [
        "####Histograma do Colesterol \n",
        "\n"
      ]
    },
    {
      "cell_type": "code",
      "metadata": {
        "id": "8SfTOyfWvCMQ",
        "colab_type": "code",
        "outputId": "845ceddd-bb5f-40bd-e7f2-6845c3c7108d",
        "colab": {
          "base_uri": "https://localhost:8080/",
          "height": 295
        }
      },
      "source": [
        "import numpy as np\n",
        "count, bin_edges = np.histogram(df2[\"chol\"])\n",
        "# plotar o histograma\n",
        "fig, ax= plt.subplots(figsize=(10,4))\n",
        "df2[\"chol\"].plot(kind=\"hist\",ax=ax,bins=10,xticks=bin_edges,color=\"#407F7F\")\n",
        "\n",
        "ax.set_xlabel(\"mg/dl\")\n",
        "ax.set_title(\"Histograma Colesterol\")\n",
        "plt.tight_layout;"
      ],
      "execution_count": 0,
      "outputs": [
        {
          "output_type": "display_data",
          "data": {
            "image/png": "[encoded data removed]",
            "text/plain": [
              "<Figure size 720x288 with 1 Axes>"
            ]
          },
          "metadata": {
            "tags": []
          }
        }
      ]
    },
    {
      "cell_type": "markdown",
      "metadata": {
        "id": "6KxRKq4IzCFw",
        "colab_type": "text"
      },
      "source": [
        "\n",
        "* A maioria dos pacientes tem colesterol sérico entre 196mg/dl e 266 mg/dl \n"
      ]
    },
    {
      "cell_type": "markdown",
      "metadata": {
        "id": "NUGHeKb4rzgo",
        "colab_type": "text"
      },
      "source": [
        "####Existe uma relação entre idade e colesterol ?"
      ]
    },
    {
      "cell_type": "code",
      "metadata": {
        "id": "JZIUrk_5olRn",
        "colab_type": "code",
        "outputId": "e2afd7d0-5d0b-4a93-e357-d369ecfaacca",
        "colab": {
          "base_uri": "https://localhost:8080/",
          "height": 350
        }
      },
      "source": [
        "# plotar gráfico de dispersao com regressao\n",
        "import seaborn as sns\n",
        "fig, ax = plt.subplots(figsize=(9,5))\n",
        "\n",
        "ax.set_xlim(left=30,right=80)\n",
        "sns.regplot(\"age\",\"chol\",scatter_kws={\"s\":15,},line_kws={\"color\":\"red\"},ax=ax,\n",
        "            data=df2)\n",
        "# mudando os labels \n",
        "ax.set_xlabel(\"Idade\")\n",
        "ax.set_ylabel(\"Colesterol mg/dl\")\n",
        "ax.set_title(\"Idade x Colesterol\")\n",
        "\n",
        "plt.tight_layout;"
      ],
      "execution_count": 0,
      "outputs": [
        {
          "output_type": "display_data",
          "data": {
            "image/png": "[encoded data removed]",
            "text/plain": [
              "<Figure size 648x360 with 1 Axes>"
            ]
          },
          "metadata": {
            "tags": []
          }
        }
      ]
    },
    {
      "cell_type": "markdown",
      "metadata": {
        "id": "6TvGpjX_sx5w",
        "colab_type": "text"
      },
      "source": [
        "* Pela regressão pode-se afirmar que existe uma leve corelação entre o avanço da idade e o nível de colesterol \n",
        "* Os pacientes entre 50 a 70 anos estão em sua maioria com colesterol entre 200 mg/dl e 300 mg/dl , considerado alto pela SBC podendo causar doenças cardiovasculares graves\n",
        "\n"
      ]
    },
    {
      "cell_type": "markdown",
      "metadata": {
        "id": "O5rguiGob74P",
        "colab_type": "text"
      },
      "source": [
        "#### Pacientes com colesterol acima do dejesádo pela SBC\n",
        "Vamos analisar os dados dos pacientes que estão com colesterol total acima do desejado.\n",
        "\n",
        "Para isso , utilizaremos uma cópia do DataSet em que limitamos o nível de colesterol ser apenas acima do considerado desejado (190 mg/dl).  "
      ]
    },
    {
      "cell_type": "code",
      "metadata": {
        "id": "AClWbA1dNDBi",
        "colab_type": "code",
        "outputId": "cd8cecfc-4e77-4f26-d2e7-45b30bdffa41",
        "colab": {
          "base_uri": "https://localhost:8080/",
          "height": 170
        }
      },
      "source": [
        "# cópia do DataSet\n",
        "df_clean = df2.copy()\n",
        "# selcionar aqueles que apresentam colesterol acima do normal\n",
        "df_clean.drop(df_clean[df_clean.chol < 190].index,axis=0,inplace=True)\n",
        "\n",
        "#plotar resumo estatísco\n",
        "df_clean.chol.describe()\n"
      ],
      "execution_count": 0,
      "outputs": [
        {
          "output_type": "execute_result",
          "data": {
            "text/plain": [
              "count    254.000000\n",
              "mean     251.086614\n",
              "std       38.883432\n",
              "min      192.000000\n",
              "25%      220.000000\n",
              "50%      245.000000\n",
              "75%      275.750000\n",
              "max      360.000000\n",
              "Name: chol, dtype: float64"
            ]
          },
          "metadata": {
            "tags": []
          },
          "execution_count": 68
        }
      ]
    },
    {
      "cell_type": "code",
      "metadata": {
        "id": "zfP_pj6WcizT",
        "colab_type": "code",
        "outputId": "01af917c-86de-4d58-f081-e6434882a6d3",
        "colab": {
          "base_uri": "https://localhost:8080/",
          "height": 404
        }
      },
      "source": [
        "# plotar o histograma\n",
        "fig, ax = plt.subplots(figsize=(10,6))\n",
        "count, bin_edges = np.histogram(df_clean[\"chol\"])\n",
        "df_clean[\"chol\"].plot(kind=\"hist\",ax=ax,bins=10,xticks=bin_edges,color=\"#407F7F\")\n",
        "\n",
        "ax.set_xlabel(\"mg/dl\")\n",
        "ax.set_title(\"Histograma Colesterol\")\n",
        "plt.tight_layout;"
      ],
      "execution_count": 0,
      "outputs": [
        {
          "output_type": "display_data",
          "data": {
            "image/png": "[encoded data removed]",
            "text/plain": [
              "<Figure size 720x432 with 1 Axes>"
            ]
          },
          "metadata": {
            "tags": []
          }
        }
      ]
    },
    {
      "cell_type": "markdown",
      "metadata": {
        "id": "58lyFoAobB0j",
        "colab_type": "text"
      },
      "source": [
        "\n",
        "\n",
        "Mais de 50% dos Pacientes que tem colesterol acima do considerado desejado tem o nível de colesterol acima de 240 mg/dl , nível moderadamente elevado. Nesse sentido , esses pacientes tem uma maior probabilidade de terem consequência como: AVC , Derrame e Trombose Coronário que pode levar ao Infarto do Miocárdio"
      ]
    },
    {
      "cell_type": "markdown",
      "metadata": {
        "id": "P3iXKcoi9qCH",
        "colab_type": "text"
      },
      "source": [
        "### Resultado a eltrocardiograma em repouso "
      ]
    },
    {
      "cell_type": "code",
      "metadata": {
        "id": "zYwd8RjJ9w0e",
        "colab_type": "code",
        "outputId": "2cb63aa5-40cc-40ae-816c-4a955b188686",
        "colab": {
          "base_uri": "https://localhost:8080/",
          "height": 85
        }
      },
      "source": [
        "# resultado da eltrocaria\n",
        "df2.restecg.value_counts()/ df2.shape[0]"
      ],
      "execution_count": 0,
      "outputs": [
        {
          "output_type": "execute_result",
          "data": {
            "text/plain": [
              "0.0    0.507042\n",
              "2.0    0.485915\n",
              "1.0    0.007042\n",
              "Name: restecg, dtype: float64"
            ]
          },
          "metadata": {
            "tags": []
          },
          "execution_count": 70
        }
      ]
    },
    {
      "cell_type": "markdown",
      "metadata": {
        "id": "I3p0Nq82-cQO",
        "colab_type": "text"
      },
      "source": [
        "\n",
        "* 50.7% teve resultado normal \n",
        "* 48.5% Hipertrofia ventricular esquerda"
      ]
    },
    {
      "cell_type": "code",
      "metadata": {
        "id": "278I-Xsxt9TZ",
        "colab_type": "code",
        "cellView": "both",
        "outputId": "88b07a7f-8390-417d-9cc1-e80788b95f5e",
        "colab": {
          "base_uri": "https://localhost:8080/",
          "height": 536
        }
      },
      "source": [
        "#@title\n",
        "\n",
        "#plotar gráfico de pizza restecg \n",
        "fig,ax= plt.subplots(figsize=(10,9))\n",
        "\n",
        "df2.restecg.value_counts().plot(kind=\"pie\", ax =ax,colors=[\"#407F7F\",\"#AA3939\",\"#A5C663\"])\n",
        "\n",
        "# editar labels\n",
        "ax.set_ylabel(\"\")\n",
        "ax.set_title(\"Resultado de eltrocardiograma em repouso\")\n",
        "\n",
        "#editar legenda\n",
        "L=plt.legend(loc=1)\n",
        "L.get_texts()[0].set_text('Normal')\n",
        "L.get_texts()[2].set_text('Anormalidades de ST-T ')\n",
        "L.get_texts()[1].set_text('Hipertrofia ventricular esquerda ')\n",
        "\n",
        "plt.tight_layout;"
      ],
      "execution_count": 0,
      "outputs": [
        {
          "output_type": "display_data",
          "data": {
            "image/png": "[encoded data removed]",
            "text/plain": [
              "<Figure size 720x648 with 1 Axes>"
            ]
          },
          "metadata": {
            "tags": []
          }
        }
      ]
    },
    {
      "cell_type": "markdown",
      "metadata": {
        "id": "9utKx1DZ3BLU",
        "colab_type": "text"
      },
      "source": [
        "Esse resultado, 48% dos pacientes ter hipertrofia ventricular esquerda é consequência de uma observação feita no início do estudo, visto que cerca de 75% dos pacientes tem pressão arterial acima do normal. Essa condição, muitas vezes, é uma adaptação à hipertensão arterial e aumenta as chances de AVC e morte súbita"
      ]
    },
    {
      "cell_type": "markdown",
      "metadata": {
        "id": "bs4shoPo_677",
        "colab_type": "text"
      },
      "source": [
        "### Teste Físico\n",
        " Ele mede quão bem seu corpo absorve oxigênio e o distribui aos músculos e órgãos durante períodos prolongados de exercício.\n",
        "  \n",
        "  O nível de aptidão cardiovascular está ligado ao risco de insuficiência cardíaca e à probabilidade de hospitalização por insuficiência cardíaca no futuro. Uma baixa aptidão cardiovascular é um forte indicador de risco de acidente vascular cerebral."
      ]
    },
    {
      "cell_type": "code",
      "metadata": {
        "id": "tYDNoF6L_6bz",
        "colab_type": "code",
        "outputId": "66117f0a-2fb9-4c19-d1da-21dbb0038589",
        "colab": {
          "base_uri": "https://localhost:8080/",
          "height": 85
        }
      },
      "source": [
        "df2.thal.value_counts()"
      ],
      "execution_count": 0,
      "outputs": [
        {
          "output_type": "execute_result",
          "data": {
            "text/plain": [
              "3.0    162\n",
              "7.0    105\n",
              "6.0     17\n",
              "Name: thal, dtype: int64"
            ]
          },
          "metadata": {
            "tags": []
          },
          "execution_count": 72
        }
      ]
    },
    {
      "cell_type": "markdown",
      "metadata": {
        "id": "Rn8tuQatA57L",
        "colab_type": "text"
      },
      "source": [
        "* Normal - 162 pacientes \n",
        "* Defeito reversível - 105\n",
        "* Defeito irreversível - 17"
      ]
    },
    {
      "cell_type": "markdown",
      "metadata": {
        "id": "_KjoCS9cBWAy",
        "colab_type": "text"
      },
      "source": [
        "* **Gráfico do resultado**"
      ]
    },
    {
      "cell_type": "code",
      "metadata": {
        "id": "_FOIEpV6Bi5N",
        "colab_type": "code",
        "outputId": "1179d4f9-4745-4798-df97-7367398523b8",
        "colab": {
          "base_uri": "https://localhost:8080/",
          "height": 320
        }
      },
      "source": [
        "#plotar gráfico dos resultados\n",
        "fig, ax = plt.subplots(figsize=(8,5))\n",
        "\n",
        "df2[\"thal\"].value_counts().plot(kind=\"barh\", ax=ax,color=[\"#407F7F\",\"#AA3939\",\"#A5C663\"])\n",
        "\n",
        "#personalizar labels\n",
        "fig.canvas.draw()\n",
        "\n",
        "labels= [item.get_text() for item in ax.get_xticklabels()]\n",
        "labels[0] = 'Normal'\n",
        "labels[1] = 'Defeito Reversível'\n",
        "labels[2] = 'Defeito Irreversível'\n",
        "\n",
        "ax.set_yticklabels(labels)\n",
        "plt.tight_layout;"
      ],
      "execution_count": 0,
      "outputs": [
        {
          "output_type": "display_data",
          "data": {
            "image/png": "[encoded data removed]",
            "text/plain": [
              "<Figure size 576x360 with 1 Axes>"
            ]
          },
          "metadata": {
            "tags": []
          }
        }
      ]
    },
    {
      "cell_type": "markdown",
      "metadata": {
        "id": "CcvRJnmqIHOj",
        "colab_type": "text"
      },
      "source": [
        "### \tDor Torácica\n",
        "Pode se assintomática ou angina que é uma dor forte na região do peito que é causada pelo estreitamento dos vasos sanguíneos que irrigam o coração com nutrientes e oxigênio."
      ]
    },
    {
      "cell_type": "code",
      "metadata": {
        "id": "j1ZY9TDucLx5",
        "colab_type": "code",
        "outputId": "5ba39e37-dfa3-41fc-8847-c73f374b02ce",
        "colab": {
          "base_uri": "https://localhost:8080/",
          "height": 102
        }
      },
      "source": [
        "df2.cp.value_counts()\n"
      ],
      "execution_count": 0,
      "outputs": [
        {
          "output_type": "execute_result",
          "data": {
            "text/plain": [
              "4.0    131\n",
              "3.0     82\n",
              "2.0     49\n",
              "1.0     22\n",
              "Name: cp, dtype: int64"
            ]
          },
          "metadata": {
            "tags": []
          },
          "execution_count": 74
        }
      ]
    },
    {
      "cell_type": "markdown",
      "metadata": {
        "id": "gcJrnYx_eH-p",
        "colab_type": "text"
      },
      "source": [
        "* 131 (46,1 %) são assintomáticas\n",
        "* 82 (28,8 %) são dores não cardíacas\n",
        "* 49 (17,2 %) são anginas atípicas \n",
        "* 22 (7,7 %) são anginas típicas"
      ]
    },
    {
      "cell_type": "code",
      "metadata": {
        "id": "K4jJklVsfO6b",
        "colab_type": "code",
        "outputId": "34a72cf9-862a-40df-e4da-fb4ce4006639",
        "colab": {
          "base_uri": "https://localhost:8080/",
          "height": 369
        }
      },
      "source": [
        "#plotar gráfico das dores \n",
        "fig, ax=plt.subplots(figsize=(8,5))\n",
        "\n",
        "df2.cp.value_counts().plot(kind=\"bar\",ax=ax, color=[\"#407F7F\",\"#AA3939\",\"#A5C663\",\"#8C5662\"])\n",
        "\n",
        "# personalizar \n",
        "plt.xticks(rotation=360)\n",
        "ax.set_title(\"Dores Toráxicas\")\n",
        "ax.set_ylabel(\"Quantidade\")\n",
        "\n",
        "# personalizar labels \n",
        "labels= [item.get_text() for item in ax.get_xticklabels()]\n",
        "labels[0] = 'Assintomático'\n",
        "labels[1] = 'Dor não cardíaca'\n",
        "labels[2] = 'Angina atípica'\n",
        "labels[3] = 'Angina típica'\n",
        "\n",
        "ax.set_xticklabels(labels)\n",
        "plt.tight_layout()"
      ],
      "execution_count": 0,
      "outputs": [
        {
          "output_type": "display_data",
          "data": {
            "image/png": "[encoded data removed]",
            "text/plain": [
              "<Figure size 576x360 with 1 Axes>"
            ]
          },
          "metadata": {
            "tags": []
          }
        }
      ]
    },
    {
      "cell_type": "markdown",
      "metadata": {
        "id": "2rCsyAgznT5A",
        "colab_type": "text"
      },
      "source": [
        "#### Pacientes com dores anginas"
      ]
    },
    {
      "cell_type": "code",
      "metadata": {
        "id": "5OYHsWiskzmw",
        "colab_type": "code",
        "outputId": "859f9344-d32e-4cc8-9687-8cbb1e8e5f66",
        "colab": {
          "base_uri": "https://localhost:8080/",
          "height": 170
        }
      },
      "source": [
        "# plotar descrição estatística do colesterol dos pacientes com dores\n",
        "df2.loc[df2[\"cp\"]<3].chol.describe()"
      ],
      "execution_count": 0,
      "outputs": [
        {
          "output_type": "execute_result",
          "data": {
            "text/plain": [
              "count     71.000000\n",
              "mean     241.408451\n",
              "std       40.580635\n",
              "min      157.000000\n",
              "25%      209.000000\n",
              "50%      235.000000\n",
              "75%      270.000000\n",
              "max      342.000000\n",
              "Name: chol, dtype: float64"
            ]
          },
          "metadata": {
            "tags": []
          },
          "execution_count": 76
        }
      ]
    },
    {
      "cell_type": "code",
      "metadata": {
        "id": "ePQkPzqwFdwL",
        "colab_type": "code",
        "outputId": "ab2cc646-64a2-4968-c394-c1074209147b",
        "colab": {
          "base_uri": "https://localhost:8080/",
          "height": 170
        }
      },
      "source": [
        "# plotar descrição estatística da pressão dos pacientes com dores\n",
        "df2.loc[df2[\"cp\"]<3].trestbps.describe()\n"
      ],
      "execution_count": 0,
      "outputs": [
        {
          "output_type": "execute_result",
          "data": {
            "text/plain": [
              "count     71.000000\n",
              "mean     130.845070\n",
              "std       15.750418\n",
              "min      101.000000\n",
              "25%      120.000000\n",
              "50%      130.000000\n",
              "75%      140.000000\n",
              "max      170.000000\n",
              "Name: trestbps, dtype: float64"
            ]
          },
          "metadata": {
            "tags": []
          },
          "execution_count": 77
        }
      ]
    },
    {
      "cell_type": "markdown",
      "metadata": {
        "id": "XCoMrsWnpc6-",
        "colab_type": "text"
      },
      "source": [
        "* Mais de 75% dos pacientes que tem algum tipo de dor angina tem colesterol e pressão acima do normal"
      ]
    },
    {
      "cell_type": "markdown",
      "metadata": {
        "id": "9DHm1QI33zsl",
        "colab_type": "text"
      },
      "source": [
        "### Existem correlações ?\n",
        "\n",
        "Pelo índicie de correlação podemos saber se duas variáveis tem relação uma com a outra , variando de -1 (correlação negativa) a 1 (coorelação positiva).\n",
        "\n"
      ]
    },
    {
      "cell_type": "markdown",
      "metadata": {
        "id": "cdyZxMARBObW",
        "colab_type": "text"
      },
      "source": [
        "* **Mapa de calor de correlação**"
      ]
    },
    {
      "cell_type": "code",
      "metadata": {
        "id": "UefWGONb5REf",
        "colab_type": "code",
        "outputId": "7591d1d9-45fd-43cf-99b9-3e42e8b6ea62",
        "colab": {
          "base_uri": "https://localhost:8080/",
          "height": 535
        }
      },
      "source": [
        "#plotar heatmap de correlação\n",
        "corr=df2.corr()\n",
        "fig , ax = plt.subplots(figsize=(20,8))\n",
        "sns.heatmap(corr, cmap='RdBu', fmt = '.2f', square = True, linecolor = 'white', annot= True, ax=ax)"
      ],
      "execution_count": 0,
      "outputs": [
        {
          "output_type": "execute_result",
          "data": {
            "text/plain": [
              "<matplotlib.axes._subplots.AxesSubplot at 0x7fd67cb0ea90>"
            ]
          },
          "metadata": {
            "tags": []
          },
          "execution_count": 78
        },
        {
          "output_type": "display_data",
          "data": {
            "image/png": "[encoded data removed]",
            "text/plain": [
              "<Figure size 1440x576 with 2 Axes>"
            ]
          },
          "metadata": {
            "tags": []
          }
        }
      ]
    },
    {
      "cell_type": "markdown",
      "metadata": {
        "id": "0RF7nWKABXAT",
        "colab_type": "text"
      },
      "source": [
        "\n",
        " A maioria das variáveis não apresenta correlação , slope e oldpeak são as variáveis que mais tem correlção - 0.53 considerada moderada.\n",
        "\n",
        " Vamos plotar o gráfico de dispersão com regressão delas para analisar mais específicamente."
      ]
    },
    {
      "cell_type": "code",
      "metadata": {
        "id": "5xIELBiy8B7f",
        "colab_type": "code",
        "outputId": "19f27e1c-8893-44a2-ba07-2cba6b0b2b08",
        "colab": {
          "base_uri": "https://localhost:8080/",
          "height": 404
        }
      },
      "source": [
        "# gráfico de scatter de slope e oaldpeak\n",
        "fig, ax= plt.subplots(figsize=(10,6))\n",
        "\n",
        "sns.regplot(\"oldpeak\",\"slope\",scatter_kws={\"s\":15, \"color\":\"#407F7F\"},line_kws={\"color\":\"#AA3939\"},\n",
        "            data=df2,ax =ax )\n",
        "ax.set_title(\" Depressão e Inclinação induzida do segmento ST\")\n",
        "ax.set_xlabel(\" Depressão do segmento ST\")\n",
        "ax.set_ylabel(\"Inclinação do ST induzida\")\n",
        "plt.tight_layout;"
      ],
      "execution_count": 0,
      "outputs": [
        {
          "output_type": "display_data",
          "data": {
            "image/png": "[encoded data removed]",
            "text/plain": [
              "<Figure size 720x432 with 1 Axes>"
            ]
          },
          "metadata": {
            "tags": []
          }
        }
      ]
    },
    {
      "cell_type": "markdown",
      "metadata": {
        "id": "CL2J252jCzN_",
        "colab_type": "text"
      },
      "source": [
        "##Crescimento de mortes por doenças cardiovasculares  no Brasil"
      ]
    },
    {
      "cell_type": "code",
      "metadata": {
        "id": "c3xoauNnGO2B",
        "colab_type": "code",
        "outputId": "4d34f1f0-0a68-42a7-c357-859d857eb5b5",
        "colab": {
          "base_uri": "https://localhost:8080/",
          "height": 204
        }
      },
      "source": [
        "# ver Data Frame\n",
        "df_brasil.head()"
      ],
      "execution_count": 0,
      "outputs": [
        {
          "output_type": "execute_result",
          "data": {
            "text/html": [
              "<div>\n",
              "<style scoped>\n",
              "    .dataframe tbody tr th:only-of-type {\n",
              "        vertical-align: middle;\n",
              "    }\n",
              "\n",
              "    .dataframe tbody tr th {\n",
              "        vertical-align: top;\n",
              "    }\n",
              "\n",
              "    .dataframe thead th {\n",
              "        text-align: right;\n",
              "    }\n",
              "</style>\n",
              "<table border=\"1\" class=\"dataframe\">\n",
              "  <thead>\n",
              "    <tr style=\"text-align: right;\">\n",
              "      <th></th>\n",
              "      <th>ano</th>\n",
              "      <th>mortes_doencas_cardio</th>\n",
              "    </tr>\n",
              "  </thead>\n",
              "  <tbody>\n",
              "    <tr>\n",
              "      <th>0</th>\n",
              "      <td>2017</td>\n",
              "      <td>383.961</td>\n",
              "    </tr>\n",
              "    <tr>\n",
              "      <th>1</th>\n",
              "      <td>2016</td>\n",
              "      <td>362.091</td>\n",
              "    </tr>\n",
              "    <tr>\n",
              "      <th>2</th>\n",
              "      <td>2015</td>\n",
              "      <td>349.584</td>\n",
              "    </tr>\n",
              "    <tr>\n",
              "      <th>3</th>\n",
              "      <td>2014</td>\n",
              "      <td>340.284</td>\n",
              "    </tr>\n",
              "    <tr>\n",
              "      <th>4</th>\n",
              "      <td>2013</td>\n",
              "      <td>339.672</td>\n",
              "    </tr>\n",
              "  </tbody>\n",
              "</table>\n",
              "</div>"
            ],
            "text/plain": [
              "    ano  mortes_doencas_cardio\n",
              "0  2017                383.961\n",
              "1  2016                362.091\n",
              "2  2015                349.584\n",
              "3  2014                340.284\n",
              "4  2013                339.672"
            ]
          },
          "metadata": {
            "tags": []
          },
          "execution_count": 80
        }
      ]
    },
    {
      "cell_type": "code",
      "metadata": {
        "id": "oNJrZZuWFA6r",
        "colab_type": "code",
        "outputId": "fb134d41-f15e-45e9-f1c5-537d4ea4d7a0",
        "colab": {
          "base_uri": "https://localhost:8080/",
          "height": 513
        }
      },
      "source": [
        "#plotar gráfico de crescimento de morte por doenças cardiovasculares\n",
        "\n",
        "fig, ax= plt.subplots(figsize=(15,8))\n",
        "df_brasil.plot(kind=\"line\", x=\"ano\",y=\"mortes_doencas_cardio\", ax=ax,)\n",
        "\n",
        "ax.set_title(\"Evolução das Mortes Causadas por Doenças Cardiovasculares\" )\n",
        "ax.set_xlabel(\"Ano\")\n",
        "ax.set_ylabel(\"Mortes em milhares\")\n",
        "L =plt.legend()\n",
        "L.get_texts()[0].set_text('Mortes Por Doenças Cardiovasculares')\n",
        "plt.tight_layout;\n"
      ],
      "execution_count": 0,
      "outputs": [
        {
          "output_type": "display_data",
          "data": {
            "image/png": "[encoded data removed]",
            "text/plain": [
              "<Figure size 1080x576 with 1 Axes>"
            ]
          },
          "metadata": {
            "tags": []
          }
        }
      ]
    },
    {
      "cell_type": "code",
      "metadata": {
        "id": "Cq3jpsb1ZNZu",
        "colab_type": "code",
        "outputId": "5d4d6ec7-2f99-49b7-c04d-1948353686bf",
        "colab": {
          "base_uri": "https://localhost:8080/",
          "height": 34
        }
      },
      "source": [
        "#crescimento médio do número de mortes\n",
        "(383-339)/4"
      ],
      "execution_count": 0,
      "outputs": [
        {
          "output_type": "execute_result",
          "data": {
            "text/plain": [
              "11.0"
            ]
          },
          "metadata": {
            "tags": []
          },
          "execution_count": 82
        }
      ]
    },
    {
      "cell_type": "markdown",
      "metadata": {
        "id": "pKO-FkxK4PIy",
        "colab_type": "text"
      },
      "source": [
        "## Machine Learning \n",
        "\n",
        "Como temos algumas informações sobre os pacientes e se eles tem ou não doenças cardícas, podemos rodar alguns modelos de machine learning para tentar prever se um paciente tem (`num=1`) ou não (`num=0`) doenças cardíaca. \n",
        "\n",
        "Para isso usaremos três modelos :\n",
        " * Regressão Logistítica do sklearn\n",
        " * Árvore de Decisão do sklearn \n",
        " * Árvore de Decisão com Gradient Boosting do XGBoost \n",
        "\n",
        "Para avaliar os modelos iremos usar a matriz de confusão , recall e f1-score. Isso porque os o custo de um ***falso negativo*** ,ou seja, prever que um paciente não tem doença mas na realidade ele tem é alto - por isso usamos o recall.\n",
        "\n",
        " Além disso, outro caso desfavorável e custoso mas em menor impacto são os ***falsos positivos*** - quando o modelo prevê que o paciente tem alguma doença porém ele não tem. Assim, usariámos somente a  precisão, mas usaremos o  f1- score que considera o recall e a precisão."
      ]
    },
    {
      "cell_type": "code",
      "metadata": {
        "id": "8xJY5n2OwyWw",
        "colab_type": "code",
        "colab": {}
      },
      "source": [
        "# importar os modelos \n",
        "from sklearn.linear_model import LogisticRegression\n",
        "from sklearn.tree import DecisionTreeClassifier\n",
        "from xgboost import XGBClassifier\n",
        "# importar metricas e separação de treino e teste \n",
        "from sklearn.model_selection import train_test_split\n",
        "from sklearn.metrics import classification_report\n",
        "from sklearn.metrics import confusion_matrix"
      ],
      "execution_count": 0,
      "outputs": []
    },
    {
      "cell_type": "code",
      "metadata": {
        "id": "sNUz_ZL6wnD0",
        "colab_type": "code",
        "outputId": "14f92e6b-5cc2-484d-dadb-dfde6675719f",
        "colab": {
          "base_uri": "https://localhost:8080/",
          "height": 102
        }
      },
      "source": [
        "# determinar X e y\n",
        "X = df.drop('num', axis=1)\n",
        "y = df['num']\n",
        "\n",
        "# dividir o dataset entre treino e teste\n",
        "X_train, X_test, y_train, y_test = train_test_split(X, y,test_size = 0.2)\n"
      ],
      "execution_count": 0,
      "outputs": [
        {
          "output_type": "execute_result",
          "data": {
            "text/plain": [
              "LogisticRegression(C=0.01, class_weight=None, dual=False, fit_intercept=True,\n",
              "                   intercept_scaling=1, l1_ratio=None, max_iter=100,\n",
              "                   multi_class='auto', n_jobs=None, penalty='l2',\n",
              "                   random_state=None, solver='lbfgs', tol=0.0001, verbose=0,\n",
              "                   warm_start=False)"
            ]
          },
          "metadata": {
            "tags": []
          },
          "execution_count": 84
        }
      ]
    },
    {
      "cell_type": "markdown",
      "metadata": {
        "id": "O9Q6GpsX7Z1z",
        "colab_type": "text"
      },
      "source": [
        "### Regressão Logística"
      ]
    },
    {
      "cell_type": "code",
      "metadata": {
        "id": "QcnFrtL55190",
        "colab_type": "code",
        "outputId": "815559df-ca78-489a-93b1-ecbcf97c165f",
        "colab": {
          "base_uri": "https://localhost:8080/",
          "height": 102
        }
      },
      "source": [
        "# criar e treinar um modelo de Regressão Logistica\n",
        "ml_model = LogisticRegression(C=0.01)\n",
        "ml_model.fit(X_train, y_train)"
      ],
      "execution_count": 0,
      "outputs": [
        {
          "output_type": "execute_result",
          "data": {
            "text/plain": [
              "LogisticRegression(C=0.01, class_weight=None, dual=False, fit_intercept=True,\n",
              "                   intercept_scaling=1, l1_ratio=None, max_iter=100,\n",
              "                   multi_class='auto', n_jobs=None, penalty='l2',\n",
              "                   random_state=None, solver='lbfgs', tol=0.0001, verbose=0,\n",
              "                   warm_start=False)"
            ]
          },
          "metadata": {
            "tags": []
          },
          "execution_count": 96
        }
      ]
    },
    {
      "cell_type": "code",
      "metadata": {
        "id": "q73-L8G7xKe7",
        "colab_type": "code",
        "colab": {}
      },
      "source": [
        "# testar o modelo \n",
        "y_pred = ml_model.predict(X_test)\n",
        "y_prob = ml_model.predict_proba(X_test)"
      ],
      "execution_count": 0,
      "outputs": []
    },
    {
      "cell_type": "code",
      "metadata": {
        "id": "yiPYrwWcxBzk",
        "colab_type": "code",
        "outputId": "0239ddcb-b148-40f0-a252-98dbb93d0287",
        "colab": {
          "base_uri": "https://localhost:8080/",
          "height": 467
        }
      },
      "source": [
        "# avaliar o modelo \n",
        "print(\"----------------------Regressão Logística--------------------------\")\n",
        "print(classification_report(y_test, y_pred))\n",
        "fig, ax = plt.subplots()\n",
        "sns.heatmap(confusion_matrix(y_test, y_pred), annot=True, ax=ax)\n",
        "\n",
        "ax.set_title(\"Matriz de Confusão\")\n",
        "ax.set_ylabel(\"True label\")\n",
        "ax.set_xlabel(\"Predicted Label\")\n",
        "\n",
        "plt.tight_layout()"
      ],
      "execution_count": 0,
      "outputs": [
        {
          "output_type": "stream",
          "text": [
            "----------------------Regressão Logística--------------------------\n",
            "              precision    recall  f1-score   support\n",
            "\n",
            "           0       0.82      0.84      0.83        32\n",
            "           1       0.82      0.79      0.81        29\n",
            "\n",
            "    accuracy                           0.82        61\n",
            "   macro avg       0.82      0.82      0.82        61\n",
            "weighted avg       0.82      0.82      0.82        61\n",
            "\n"
          ],
          "name": "stdout"
        },
        {
          "output_type": "display_data",
          "data": {
            "image/png": "[encoded data removed]",
            "text/plain": [
              "<Figure size 432x288 with 2 Axes>"
            ]
          },
          "metadata": {
            "tags": []
          }
        }
      ]
    },
    {
      "cell_type": "markdown",
      "metadata": {
        "id": "KGD-qk9m7gZE",
        "colab_type": "text"
      },
      "source": [
        "### Árvore de decisão "
      ]
    },
    {
      "cell_type": "code",
      "metadata": {
        "id": "IZSlmcrYx4_Q",
        "colab_type": "code",
        "outputId": "7481c995-4089-4460-e79c-8c34b93ee835",
        "colab": {
          "base_uri": "https://localhost:8080/",
          "height": 119
        }
      },
      "source": [
        "# criar e treinar um modelo de arvore de decisão \n",
        "\n",
        "dt_model = DecisionTreeClassifier(max_depth=4, criterion=\"entropy\")\n",
        "dt_model.fit(X_train, y_train)"
      ],
      "execution_count": 0,
      "outputs": [
        {
          "output_type": "execute_result",
          "data": {
            "text/plain": [
              "DecisionTreeClassifier(ccp_alpha=0.0, class_weight=None, criterion='entropy',\n",
              "                       max_depth=4, max_features=None, max_leaf_nodes=None,\n",
              "                       min_impurity_decrease=0.0, min_impurity_split=None,\n",
              "                       min_samples_leaf=1, min_samples_split=2,\n",
              "                       min_weight_fraction_leaf=0.0, presort='deprecated',\n",
              "                       random_state=None, splitter='best')"
            ]
          },
          "metadata": {
            "tags": []
          },
          "execution_count": 89
        }
      ]
    },
    {
      "cell_type": "code",
      "metadata": {
        "id": "o7j6gkit2B5E",
        "colab_type": "code",
        "colab": {}
      },
      "source": [
        "# testar o modelo \n",
        "y_tpred = dt_model.predict(X_test)\n",
        "y_tproba = dt_model.predict_proba(X_test) "
      ],
      "execution_count": 0,
      "outputs": []
    },
    {
      "cell_type": "code",
      "metadata": {
        "id": "_BnUqTGi2YrY",
        "colab_type": "code",
        "outputId": "050f6aee-6f66-46f8-c1e1-af52a568a85e",
        "colab": {
          "base_uri": "https://localhost:8080/",
          "height": 482
        }
      },
      "source": [
        "# plotar metricas de avaliação \n",
        "print(\"----------------------Árvore de Decisão--------------------------\")\n",
        "fig , ax = plt.subplots()\n",
        "print(classification_report(y_test, y_tpred))\n",
        "sns.heatmap(confusion_matrix(y_test, y_tpred), annot=True, ax=ax)\n",
        "ax.set_title(\"Matriz de Confusão\")\n",
        "ax.set_ylabel(\"True label\")\n",
        "ax.set_xlabel(\"Predicted Label\")"
      ],
      "execution_count": 0,
      "outputs": [
        {
          "output_type": "stream",
          "text": [
            "----------------------Árvore de Decisão--------------------------\n",
            "              precision    recall  f1-score   support\n",
            "\n",
            "           0       0.76      0.97      0.85        32\n",
            "           1       0.95      0.66      0.78        29\n",
            "\n",
            "    accuracy                           0.82        61\n",
            "   macro avg       0.85      0.81      0.81        61\n",
            "weighted avg       0.85      0.82      0.81        61\n",
            "\n"
          ],
          "name": "stdout"
        },
        {
          "output_type": "execute_result",
          "data": {
            "text/plain": [
              "Text(0.5, 15.0, 'Predicted Label')"
            ]
          },
          "metadata": {
            "tags": []
          },
          "execution_count": 110
        },
        {
          "output_type": "display_data",
          "data": {
            "image/png": "[encoded data removed]",
            "text/plain": [
              "<Figure size 432x288 with 2 Axes>"
            ]
          },
          "metadata": {
            "tags": []
          }
        }
      ]
    },
    {
      "cell_type": "markdown",
      "metadata": {
        "id": "Vnt7owxD7nzh",
        "colab_type": "text"
      },
      "source": [
        "### XGBoost "
      ]
    },
    {
      "cell_type": "code",
      "metadata": {
        "id": "6HbzdJQb3X7h",
        "colab_type": "code",
        "outputId": "e181d0cd-d337-4596-8e78-078d98dec2a1",
        "colab": {
          "base_uri": "https://localhost:8080/",
          "height": 136
        }
      },
      "source": [
        "# criar e treinar o modelo \n",
        "x_model = XGBClassifier(learning_rate=0.05, n_estimators=100,\n",
        "                         max_depth=4, subsample = 0.9,\n",
        "                         colsample_bytree = 0.3, gamma=3,\n",
        "                         random_state=42)\n",
        "x_model.fit(X_train, y_train)"
      ],
      "execution_count": 0,
      "outputs": [
        {
          "output_type": "execute_result",
          "data": {
            "text/plain": [
              "XGBClassifier(base_score=0.5, booster='gbtree', colsample_bylevel=1,\n",
              "              colsample_bynode=1, colsample_bytree=0.3, gamma=3,\n",
              "              learning_rate=0.05, max_delta_step=0, max_depth=4,\n",
              "              min_child_weight=1, missing=None, n_estimators=100, n_jobs=1,\n",
              "              nthread=None, objective='binary:logistic', random_state=42,\n",
              "              reg_alpha=0, reg_lambda=1, scale_pos_weight=1, seed=None,\n",
              "              silent=None, subsample=0.9, verbosity=1)"
            ]
          },
          "metadata": {
            "tags": []
          },
          "execution_count": 93
        }
      ]
    },
    {
      "cell_type": "code",
      "metadata": {
        "id": "5FhpNCB03oNp",
        "colab_type": "code",
        "colab": {}
      },
      "source": [
        "# testar o modelo \n",
        "y_xpred = x_model.predict(X_test)\n",
        "y_xproba = x_model.predict_proba(X_test)"
      ],
      "execution_count": 0,
      "outputs": []
    },
    {
      "cell_type": "code",
      "metadata": {
        "id": "g3K13lXR35Ci",
        "colab_type": "code",
        "outputId": "b19d61fb-2753-4329-ea1a-8908ee7c5d2f",
        "colab": {
          "base_uri": "https://localhost:8080/",
          "height": 482
        }
      },
      "source": [
        "# plotar as métricas de avaliação\n",
        "print(\"-----------------------------XGBoost-------------------------------\")\n",
        "print(classification_report(y_test, y_xpred))\n",
        "\n",
        "#matriz de confusão \n",
        "fig , ax = plt.subplots()\n",
        "sns.heatmap(confusion_matrix(y_test, y_xpred), annot=True, ax=ax)\n",
        "ax.set_title(\"Matriz de Confusão\")\n",
        "ax.set_ylabel(\"True label\")\n",
        "ax.set_xlabel(\"Predicted Label\")"
      ],
      "execution_count": 0,
      "outputs": [
        {
          "output_type": "stream",
          "text": [
            "-----------------------------XGBoost-------------------------------\n",
            "              precision    recall  f1-score   support\n",
            "\n",
            "           0       0.88      0.88      0.88        32\n",
            "           1       0.86      0.86      0.86        29\n",
            "\n",
            "    accuracy                           0.87        61\n",
            "   macro avg       0.87      0.87      0.87        61\n",
            "weighted avg       0.87      0.87      0.87        61\n",
            "\n"
          ],
          "name": "stdout"
        },
        {
          "output_type": "execute_result",
          "data": {
            "text/plain": [
              "Text(0.5, 15.0, 'Predicted Label')"
            ]
          },
          "metadata": {
            "tags": []
          },
          "execution_count": 107
        },
        {
          "output_type": "display_data",
          "data": {
            "image/png": "[encoded data removed]",
            "text/plain": [
              "<Figure size 432x288 with 2 Axes>"
            ]
          },
          "metadata": {
            "tags": []
          }
        }
      ]
    },
    {
      "cell_type": "markdown",
      "metadata": {
        "id": "DZqPaq7ULzt2",
        "colab_type": "text"
      },
      "source": [
        "Comparando os 3 modelos pelas métricas escolhidas, pode-se afirmar que o XGBoost foi o que teve melhor resultado :\n",
        "* Acurácia de 87%\n",
        "* Recall \n",
        "  * 0 - 88 %\n",
        "  * 1 - 86 % \n",
        "* f1 - score\n",
        "  * 0 - 88 %\n",
        "  * 1 - 86 % \n"
      ]
    },
    {
      "cell_type": "markdown",
      "metadata": {
        "id": "5hR-L8LD8o4W",
        "colab_type": "text"
      },
      "source": [
        "##**Conclusão**\n",
        "\n",
        "Apesar de possuir outliers, o Data Set possui várias informações valiosas sobre os pacientes e as variáveis foram selecionadas de maneira ideal para análise.\n",
        "\n",
        "Os pacientes eram majoritáriamente homens e a maioria não possuiam doenças cardíacas, em média o colesterol era de 242 mg/dl e de idade era 54 anos. 75% dos pacientes tem pressão acima do considerado normal 120 mmHg, cerca de 25%  tem quadro de hipertenção leve - pressão arterial acima de 140 mmHg\n",
        "\n",
        "\n",
        "A maioria tem  colesterol entre 196mg/dl e 266 mg/dl. Essas taxas são bem acima do considerado normal pela Sociedade Brasileira de Cardiologia (190 mg/dl), indicando que esses pacientes tem uma maior chance de infarto, insuficiência cardíaca e pressão alta. Além disso, pela regressão vimos que existe uma pequena elevação das taxas quando a idade avança. Aqueles acima da taxa normal, 50% tem colesterol acima de 240 mg/dl(nível moderadamente elevado), assim tendo maior probabilidade de terem consequência como: AVC , Derreme e Trombose Coronário que pode levar ao Infarto do Miocárdio.\n",
        "\n",
        "O resultado de alguns exames também revelaram algumas informações, no eletrocardiograma mais da metade teve resultado normal, porém 48% teve hipertrofia ventricular esquerda que é uma condição que aumenta as chances de AVC e morte súbita e  pode ser causada por pressão alta algo 75% dos pacientes tem. Somente 24,9% tem dor angina, causada pelo estreitamento das artérias e mais de 75% deles tem colesterol acima do normal. Nesse sentido, é provável que muitos dos resultados desses exames sejam consequências da pressão e do colesterol alto.\n",
        "\n",
        "No Brasil, as mortes por doenças cardíacas aumenta em média 11.000 por ano.\n",
        "\n",
        "Além dessas importantes informações, aplicamos um modelo de machine learning com acurácia de 87% de acurácia que tem espaço para melhorias.\n",
        "\n",
        "\n"
      ]
    }
  ]
}